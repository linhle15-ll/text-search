{
 "cells": [
  {
   "cell_type": "code",
   "execution_count": 12,
   "id": "45e5b7a4",
   "metadata": {},
   "outputs": [
    {
     "data": {
      "text/plain": [
       "True"
      ]
     },
     "execution_count": 12,
     "metadata": {},
     "output_type": "execute_result"
    }
   ],
   "source": [
    "from dotenv import load_dotenv\n",
    "\n",
    "load_dotenv()"
   ]
  },
  {
   "cell_type": "code",
   "execution_count": 13,
   "id": "d522da5f",
   "metadata": {},
   "outputs": [],
   "source": [
    "import qdrant_client\n",
    "from IPython.display import Markdown, display\n",
    "from llama_index.core import VectorStoreIndex, SimpleDirectoryReader\n",
    "from llama_index.core import StorageContext\n",
    "from llama_index.vector_stores.qdrant import QdrantVectorStore\n",
    "from llama_index.embeddings.fastembed import FastEmbedEmbedding\n",
    "from llama_index.core import Settings\n",
    "\n"
   ]
  },
  {
   "cell_type": "code",
   "execution_count": 14,
   "id": "8016b2ef",
   "metadata": {},
   "outputs": [],
   "source": [
    "import os\n",
    "# os.getenv(\"OPENAI_API_KEY\")"
   ]
  },
  {
   "cell_type": "code",
   "execution_count": 15,
   "id": "8adea9b7",
   "metadata": {},
   "outputs": [],
   "source": [
    "# OpenAI Embedding\n",
    "from llama_index.embeddings.openai import OpenAIEmbedding\n",
    "from llama_index.core import Settings\n",
    "\n",
    "embed_model = OpenAIEmbedding(embed_batch_size=10, model=\"text-embedding-3-small\")\n",
    "Settings.embed_model = embed_model #later should not use global varr\n"
   ]
  },
  {
   "cell_type": "code",
   "execution_count": 16,
   "id": "64790471",
   "metadata": {},
   "outputs": [],
   "source": [
    "from llama_index.llms.openai import OpenAI\n",
    "from llama_index.core import Settings\n",
    "\n",
    "Settings.llm = OpenAI(model=\"gpt-4o-mini\", temperature=0.1)"
   ]
  },
  {
   "cell_type": "code",
   "execution_count": 17,
   "id": "f7995215",
   "metadata": {},
   "outputs": [],
   "source": [
    "from llama_index.core.indices.vector_store.base import VectorStoreIndex\n",
    "from llama_index.vector_stores.qdrant import QdrantVectorStore\n",
    "\n",
    "import qdrant_client\n",
    "\n",
    "# Create qdrant client\n",
    "client = qdrant_client.QdrantClient(\n",
    "    host=\"localhost\",\n",
    "    port=6333\n",
    ")"
   ]
  },
  {
   "cell_type": "code",
   "execution_count": 18,
   "id": "a84d4aa6",
   "metadata": {},
   "outputs": [],
   "source": [
    "import json\n",
    "\n",
    "# load json\n",
    "fileName = \"data/20250612.json\"\n",
    "\n",
    "with open(fileName, \"r\", encoding=\"utf-8\") as file:\n",
    "    data = json.load(file)"
   ]
  },
  {
   "cell_type": "code",
   "execution_count": 19,
   "id": "98111d96",
   "metadata": {},
   "outputs": [],
   "source": [
    "from llama_index.core import Document\n",
    "\n",
    "documents = []\n",
    "for dp in data:\n",
    "    documents.append(Document(\n",
    "        text = dp[\"label\"],\n",
    "        doc_id = dp[\"id\"],\n",
    "        metadata = dp,\n",
    "    ))\n",
    "    \n",
    "# print(documents[0].metadata)"
   ]
  },
  {
   "cell_type": "code",
   "execution_count": 20,
   "id": "53a70161",
   "metadata": {},
   "outputs": [],
   "source": [
    "# create vector store index\n",
    "vector_store = QdrantVectorStore(client=client, collection_name=\"linh-test\")\n",
    "storage_context = StorageContext.from_defaults(vector_store=vector_store)\n",
    "\n",
    "index = VectorStoreIndex.from_documents(\n",
    "    documents,\n",
    "    storage_context=storage_context,\n",
    ")"
   ]
  },
  {
   "cell_type": "code",
   "execution_count": 21,
   "id": "5feef284",
   "metadata": {},
   "outputs": [],
   "source": [
    "# Query\n",
    "query_engine = index.as_query_engine()\n",
    "response = query_engine.query(\"BX Công an\")"
   ]
  },
  {
   "cell_type": "code",
   "execution_count": 23,
   "id": "fc523346",
   "metadata": {},
   "outputs": [
    {
     "name": "stdout",
     "output_type": "stream",
     "text": [
      "Bệnh xá Công an tỉnh Bình Thuận, located at Đường Phạm Hùng, KDC Hùng Vương, Phan Thiết, Bình Thuận, has the code 98460.\n"
     ]
    }
   ],
   "source": [
    "print(response)"
   ]
  }
 ],
 "metadata": {
  "kernelspec": {
   "display_name": ".venv",
   "language": "python",
   "name": "python3"
  },
  "language_info": {
   "codemirror_mode": {
    "name": "ipython",
    "version": 3
   },
   "file_extension": ".py",
   "mimetype": "text/x-python",
   "name": "python",
   "nbconvert_exporter": "python",
   "pygments_lexer": "ipython3",
   "version": "3.9.9"
  }
 },
 "nbformat": 4,
 "nbformat_minor": 5
}
